{
 "cells": [
  {
   "cell_type": "markdown",
   "id": "2786ad47",
   "metadata": {},
   "source": [
    "# Primitive recursion and general recursion"
   ]
  },
  {
   "cell_type": "markdown",
   "id": "c7c6853c",
   "metadata": {},
   "source": [
    "The aim of this chapter is to describe primitive recursive arithmetic and general partial recursive functions. There are three reasons why we need to learn this material well. First, the proofs of Gödel's Incompleteness Theorems use primitive recursion heavily: they are the main vehicle of the arithmetization of syntax. Second, the statement of G\\\"odel's Incompleteness Theorems use the notion of computability, which is extensionally equivalent to the notion of recursion which we describe in this chapter. In the next chapter, we turn to computability proper. Third, primitive recursion has been thought by Hilbert and Bernays to be a paradigmatic example of contentful arithmetic, and so for understanding the secondary literature on this topic one needs to have some sense of what one can and cannot do with primitive recursion.\n",
    "\n",
    "Finally, a word by way of bibliography. A standard mid 20th century presentation of the rudiments of recursive function theory, and indeed G\\\"odel's First Incompleteness Theorem, is Kleene's *Introduction to Metamathematics*. This chapter draws heavily off of Kleene's presentation, and I cite accordingly. The reason for not simply assigning Kleene himself is that these portions of Kleene occur sporadically throughout his 500 page text. Further, while Kleene admirably interleaves the development of Gödel's First Incompleteness Theorem and the foundations of recursion theory, I think that the prevailing view now is that it is best to foreground the computational notions. Finally, I think that Kleene is sometimes more formal than the introductory spirit of our notes recommends."
   ]
  },
  {
   "cell_type": "markdown",
   "id": "067c6006",
   "metadata": {},
   "source": [
    "## Recalling function notation"
   ]
  },
  {
   "cell_type": "markdown",
   "id": "d45680f5",
   "metadata": {},
   "source": [
    "We work in this chapter with functions on the natural numbers. Recall that our notation for functions is $f:\\mathbb{N}^k\\rightarrow \\mathbb{N}$, which indicates that $f$ takes an ordered $k$-tuple of inputs $(n_1, \\ldots, n_k)$ from the natural numbers and return an output $n=f(n_1, \\ldots, n_k)$ from the natural numbers. For instance consider $f(n_1, n_2,n_3)=n_1\\cdot n_2+n_3$:\n",
    "\n",
    "$f(3,2,3)=3\\cdot 2+3 = 6+3=9, \\hspace{5mm} f(3,3,2)=3\\cdot 3+2 =9+2=11$\n",
    "\n",
    "Functions can be identified with sets of their input-output pairs, and if one wanted to formalise this one would develop some set theory. But another way to think about functions is as operations or rules, and a way to set out this approach is to develop the theory of computation, which we shall do in this chapter."
   ]
  },
  {
   "cell_type": "markdown",
   "id": "aa3d237d",
   "metadata": {},
   "source": [
    "## Primitive recursive functions"
   ]
  },
  {
   "cell_type": "code",
   "execution_count": 3,
   "id": "cdd9e632",
   "metadata": {},
   "outputs": [
    {
     "ename": "SyntaxError",
     "evalue": "invalid syntax (4247779338.py, line 1)",
     "output_type": "error",
     "traceback": [
      "\u001b[0;36m  Cell \u001b[0;32mIn[3], line 1\u001b[0;36m\u001b[0m\n\u001b[0;31m    The idea of primitive recursion is to show how to defined functions by saying how they are defined on zero and how they are defined on a successor by how they are defined on the previous step. Formally, this results in the following definition:\u001b[0m\n\u001b[0m        ^\u001b[0m\n\u001b[0;31mSyntaxError\u001b[0m\u001b[0;31m:\u001b[0m invalid syntax\n"
     ]
    }
   ],
   "source": []
  },
  {
   "cell_type": "markdown",
   "id": "5cc25bf1",
   "metadata": {},
   "source": []
  }
 ],
 "metadata": {
  "kernelspec": {
   "display_name": "Python 3 (ipykernel)",
   "language": "python",
   "name": "python3"
  },
  "language_info": {
   "codemirror_mode": {
    "name": "ipython",
    "version": 3
   },
   "file_extension": ".py",
   "mimetype": "text/x-python",
   "name": "python",
   "nbconvert_exporter": "python",
   "pygments_lexer": "ipython3",
   "version": "3.11.5"
  }
 },
 "nbformat": 4,
 "nbformat_minor": 5
}
