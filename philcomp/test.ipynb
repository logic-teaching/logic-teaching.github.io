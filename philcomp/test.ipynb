{
 "cells": [
  {
   "cell_type": "markdown",
   "id": "2786ad47",
   "metadata": {},
   "source": [
    "# Primitive recursion and general recursion"
   ]
  },
  {
   "cell_type": "markdown",
   "id": "c7c6853c",
   "metadata": {},
   "source": [
    "The aim of this chapter is to describe primitive recursive arithmetic and general partial recursive functions. There are three reasons why we need to learn this material well. First, the proofs of Gödel's Incompleteness Theorems use primitive recursion heavily: they are the main vehicle of the arithmetization of syntax. Second, the statement of G\\\"odel's Incompleteness Theorems use the notion of computability, which is extensionally equivalent to the notion of recursion which we describe in this chapter. In the next chapter, we turn to computability proper. Third, primitive recursion has been thought by Hilbert and Bernays to be a paradigmatic example of contentful arithmetic, and so for understanding the secondary literature on this topic one needs to have some sense of what one can and cannot do with primitive recursion.\n",
    "\n",
    "Finally, a word by way of bibliography. A standard mid 20th century presentation of the rudiments of recursive function theory, and indeed G\\\"odel's First Incompleteness Theorem, is Kleene's *Introduction to Metamathematics*. This chapter draws heavily off of Kleene's presentation, and I cite accordingly. The reason for not simply assigning Kleene himself is that these portions of Kleene occur sporadically throughout his 500 page text. Further, while Kleene admirably interleaves the development of Gödel's First Incompleteness Theorem and the foundations of recursion theory, I think that the prevailing view now is that it is best to foreground the computational notions. Finally, I think that Kleene is sometimes more formal than the introductory spirit of our notes recommends."
   ]
  },
  {
   "cell_type": "markdown",
   "id": "067c6006",
   "metadata": {},
   "source": [
    "## Recalling function notation"
   ]
  },
  {
   "cell_type": "markdown",
   "id": "d45680f5",
   "metadata": {},
   "source": [
    "We work in this chapter with functions on the natural numbers. Recall that our notation for functions is $f:\\mathbb{N}^k\\rightarrow \\mathbb{N}$, which indicates that $f$ takes an ordered $k$-tuple of inputs $(n_1, \\ldots, n_k)$ from the natural numbers and return an output $n=f(n_1, \\ldots, n_k)$ from the natural numbers. For instance consider $f(n_1, n_2,n_3)=n_1\\cdot n_2+n_3$:\n",
    "\n",
    "$f(3,2,3)=3\\cdot 2+3 = 6+3=9, \\hspace{5mm} f(3,3,2)=3\\cdot 3+2 =9+2=11$\n",
    "\n",
    "Functions can be identified with sets of their input-output pairs, and if one wanted to formalise this one would develop some set theory. But another way to think about functions is as operations or rules, and a way to set out this approach is to develop the theory of computation, which we shall do in this chapter."
   ]
  },
  {
   "cell_type": "markdown",
   "id": "aa3d237d",
   "metadata": {},
   "source": [
    "## Primitive recursive functions"
   ]
  },
  {
   "cell_type": "markdown",
   "id": "474eecc6",
   "metadata": {},
   "source": [
    "Suppose a *base function* $B:\\mathbb{N}\\rightarrow \\mathbb{N}$ and an *iterator function* $I:\\mathbb{N}^{3}\\rightarrow \\mathbb{N}$ are given. Then the function $f:\\mathbb{N}^{2}\\rightarrow \\mathbb{N}$ defined by *primitive recursion* from this base and iterator is the function which satisfies the following, for all $n,m$\n",
    "\n",
    "$$ f(n,0) =B(n) \\\\ f(n,S(m)) = I(n,m,f(n,m))$$\n",
    "\n",
    "More generally, for $k\\geq 0$, suppose a *base function* $B:\\mathbb{N}^k\\rightarrow \\mathbb{N}$ and an *iterator function* $I:\\mathbb{N}^{k+2}\\rightarrow \\mathbb{N}$ are given. Then the function $f:\\mathbb{N}^{k+1}\\rightarrow \\mathbb{N}$ defined by *primitive recursion* from this base and iterator is the function which satisfies the following, for all $n_1, \\ldots, n_k,y$:\n",
    "\n",
    "$$ f(n_1, \\ldots, n_k, 0) = B(n_1, \\ldots, n_k) \\\\ f(n_1, \\ldots, n_k,S(m)) = I(n_1, \\ldots, n_k,m,f(n_1, \\ldots, n_k,m))$$\n",
    "\n",
    "(In the case where $k=0$, the base is just given by a single natural number $b$ rather than a function $B$)."
   ]
  },
  {
   "cell_type": "code",
   "execution_count": 1,
   "id": "62e98a11",
   "metadata": {},
   "outputs": [
    {
     "name": "stdout",
     "output_type": "stream",
     "text": [
      "A(2,2)\n",
      "A(1,A(2,1))\n",
      "A(1,A(1,A(2,0)))\n",
      "A(1,A(1,A(1,1)))\n",
      "A(1,A(1,A(0,A(1,0))))\n",
      "A(1,A(1,A(0,A(0,1))))\n",
      "A(1,A(1,A(0,2)))\n",
      "A(1,A(1,3))\n",
      "A(1,A(0,A(1,2)))\n",
      "A(1,A(0,A(0,A(1,1))))\n",
      "A(1,A(0,A(0,A(0,A(1,0)))))\n",
      "A(1,A(0,A(0,A(0,A(0,1)))))\n",
      "A(1,A(0,A(0,A(0,2))))\n",
      "A(1,A(0,A(0,3)))\n",
      "A(1,A(0,4))\n",
      "A(1,5)\n",
      "A(0,A(1,4))\n",
      "A(0,A(0,A(1,3)))\n",
      "A(0,A(0,A(0,A(1,2))))\n",
      "A(0,A(0,A(0,A(0,A(1,1)))))\n",
      "A(0,A(0,A(0,A(0,A(0,A(1,0))))))\n",
      "A(0,A(0,A(0,A(0,A(0,A(0,1))))))\n",
      "A(0,A(0,A(0,A(0,A(0,2)))))\n",
      "A(0,A(0,A(0,A(0,3))))\n",
      "A(0,A(0,A(0,4)))\n",
      "A(0,A(0,5))\n",
      "A(0,6)\n"
     ]
    },
    {
     "data": {
      "text/plain": [
       "7"
      ]
     },
     "execution_count": 1,
     "metadata": {},
     "output_type": "execute_result"
    }
   ],
   "source": [
    "def A(m, n, s=\"%s\"):\n",
    "    print (s % (\"A(%d,%d)\" % (m, n)))\n",
    "    if m == 0:\n",
    "        return n + 1\n",
    "    if n == 0:\n",
    "        return A(m - 1, 1, s)\n",
    "    n2 = A(m, n - 1, s % (\"A(%d,%%s)\" % (m - 1)))\n",
    "    return A(m - 1, n2, s)\n",
    "\n",
    "A(2,2)\n"
   ]
  },
  {
   "cell_type": "code",
   "execution_count": null,
   "id": "606a57b6",
   "metadata": {},
   "outputs": [],
   "source": []
  }
 ],
 "metadata": {
  "kernelspec": {
   "display_name": "Python 3 (ipykernel)",
   "language": "python",
   "name": "python3"
  },
  "language_info": {
   "codemirror_mode": {
    "name": "ipython",
    "version": 3
   },
   "file_extension": ".py",
   "mimetype": "text/x-python",
   "name": "python",
   "nbconvert_exporter": "python",
   "pygments_lexer": "ipython3",
   "version": "3.11.5"
  }
 },
 "nbformat": 4,
 "nbformat_minor": 5
}
