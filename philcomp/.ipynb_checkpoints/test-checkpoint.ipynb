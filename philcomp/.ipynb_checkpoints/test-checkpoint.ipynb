{
 "cells": [
  {
   "cell_type": "markdown",
   "id": "27b77253",
   "metadata": {},
   "source": [
    "# Primitive recursion and general recursion"
   ]
  },
  {
   "cell_type": "markdown",
   "id": "d67f1e4f",
   "metadata": {},
   "source": [
    "The aim of this chapter is to describe primitive recursive arithmetic and general partial recursive functions. There are three reasons why we need to learn this material well. First, the proofs of Gödel's Incompleteness Theorems use primitive recursion heavily: they are the main vehicle of the arithmetization of syntax. Second, the statement of G\\\"odel's Incompleteness Theorems use the notion of computability, which is extensionally equivalent to the notion of recursion which we describe in this chapter. In the next chapter, we turn to computability proper. Third, primitive recursion has been thought by Hilbert and Bernays to be a paradigmatic example of contentful arithmetic, and so for understanding the secondary literature on this topic one needs to have some sense of what one can and cannot do with primitive recursion.\n",
    "\n",
    "Finally, a word by way of bibliography. A standard mid 20th century presentation of the rudiments of recursive function theory, and indeed G\\\"odel's First Incompleteness Theorem, is Kleene's *Introduction to Metamathematics*. This chapter draws heavily off of Kleene's presentation, and I cite accordingly. The reason for not simply assigning Kleene himself is that these portions of Kleene occur sporadically throughout his 500 page text. Further, while Kleene admirably interleaves the development of Gödel's First Incompleteness Theorem and the foundations of recursion theory, I think that the prevailing view now is that it is best to foreground the computational notions. Finally, I think that Kleene is sometimes more formal than the introductory spirit of our notes recommends."
   ]
  },
  {
   "cell_type": "markdown",
   "id": "7dd3baaa",
   "metadata": {},
   "source": [
    "## Recalling function notation"
   ]
  },
  {
   "cell_type": "code",
   "execution_count": null,
   "id": "a1c19114",
   "metadata": {},
   "outputs": [],
   "source": []
  },
  {
   "cell_type": "code",
   "execution_count": null,
   "id": "d68b300a",
   "metadata": {},
   "outputs": [],
   "source": []
  }
 ],
 "metadata": {
  "kernelspec": {
   "display_name": "Python 3 (ipykernel)",
   "language": "python",
   "name": "python3"
  },
  "language_info": {
   "codemirror_mode": {
    "name": "ipython",
    "version": 3
   },
   "file_extension": ".py",
   "mimetype": "text/x-python",
   "name": "python",
   "nbconvert_exporter": "python",
   "pygments_lexer": "ipython3",
   "version": "3.11.5"
  }
 },
 "nbformat": 4,
 "nbformat_minor": 5
}
